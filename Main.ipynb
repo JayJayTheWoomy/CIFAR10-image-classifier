{
 "cells": [
  {
   "cell_type": "code",
   "execution_count": null,
   "id": "360255f9-144b-440e-8e36-8b3b0b9b6d40",
   "metadata": {},
   "outputs": [],
   "source": [
    "import numpy as np\n",
    "from PIL import Image\n",
    "\n",
    "import torch\n",
    "import torch.nn as nn\n",
    "import torch.nn.functional as F\n",
    "import torch.optim as optim\n",
    "\n",
    "import torchvision\n",
    "import torchvision.transforms as transforms"
   ]
  },
  {
   "cell_type": "code",
   "execution_count": null,
   "id": "558165b1-2abc-40a3-880a-73ac8a26ded9",
   "metadata": {},
   "outputs": [],
   "source": [
    "transform = transforms.Compose([\n",
    "    transforms.ToTensor(),\n",
    "    transforms.Normalize((0.5, 0.5, 0.5), (0.5, 0.5, 0.5))\n",
    "])"
   ]
  },
  {
   "cell_type": "code",
   "execution_count": null,
   "id": "511208db-ed00-4c29-907f-e7f6db391f4e",
   "metadata": {},
   "outputs": [],
   "source": [
    "train_data = torchvision.datasets.CIFAR10(root='./data', train = True, transform=transform, download=True)\n",
    "test_data = torchvision.datasets.CIFAR10(root='./data', train = False, transform=transform, download=True)\n",
    "\n",
    "train_loader = torch.utils.data.DataLoader(train_data, batch_size=32, shuffle=True, num_workers=2)\n",
    "test_loader = torch.utils.data.DataLoader(test_data, batch_size=32, shuffle=True, num_workers=2)"
   ]
  },
  {
   "cell_type": "code",
   "execution_count": null,
   "id": "a5cc5ead-6bca-4add-8758-e1739ecfed9b",
   "metadata": {},
   "outputs": [],
   "source": [
    "image, label = train_data[0]"
   ]
  },
  {
   "cell_type": "code",
   "execution_count": null,
   "id": "f601fc89-6c24-40ab-9cbc-6cd7e321572f",
   "metadata": {},
   "outputs": [],
   "source": [
    "image.size()"
   ]
  },
  {
   "cell_type": "code",
   "execution_count": null,
   "id": "9119e2ca-215a-4a7c-a3f3-fb150cfbcded",
   "metadata": {},
   "outputs": [],
   "source": [
    "class_names=['plane', 'car', 'bird', 'cat', 'deer', 'dog', 'frog', 'horse','ship', 'truck']"
   ]
  },
  {
   "cell_type": "code",
   "execution_count": null,
   "id": "39369939-ab56-4f87-b3f3-9aa3bbb491dc",
   "metadata": {},
   "outputs": [],
   "source": [
    "class NeuralNet(nn.Module):\n",
    "\n",
    "    def __init__(self):\n",
    "        super().__init__()\n",
    "\n",
    "        self.conv1 =nn.Conv2d(3, 12, 5) #32-5=27/1=27+1= (12, 28, 28)\n",
    "        self.pool = nn.MaxPool2d(2,2) #(12, 14, 14)\n",
    "        self.conv2 = nn.Conv2d(12,24, 5) # 14-5 =9/1= 9+1= (24, 10, 10) ->(24, 5, 5)\n",
    "        self.fc1 = nn.Linear(24*5*5, 120)\n",
    "        self.fc2 = nn.Linear(120, 84)\n",
    "        self.fc3 = nn.Linear(84, 10)\n",
    "\n",
    "    def forward(self,x):\n",
    "        x=self.pool(F.relu(self.conv1(x)))\n",
    "        x=self.pool(F.relu(self.conv2(x)))\n",
    "        x= torch.flatten(x, 1)\n",
    "        x= F.relu(self.fc1(x))\n",
    "        x= F.relu(self.fc2(x))\n",
    "        x= self.fc3(x)\n",
    "        return x"
   ]
  },
  {
   "cell_type": "code",
   "execution_count": null,
   "id": "3adca1b6-b253-4c4f-bea6-aa63b1c4ff30",
   "metadata": {},
   "outputs": [],
   "source": [
    "device = torch.device('cuda' if torch.cuda.is_available() else 'cpu')\n",
    "\n",
    "net = NeuralNet().to(device)\n",
    "loss_function = nn.CrossEntropyLoss()\n",
    "optimizer = optim.SGD(net.parameters(), lr=0.001, momentum=0.9)"
   ]
  },
  {
   "cell_type": "code",
   "execution_count": null,
   "id": "c49f8857-1bed-474c-ae09-d02687800ac2",
   "metadata": {},
   "outputs": [],
   "source": [
    "for epoch in range(30):\n",
    "    print (f'Training epoch {epoch}...')\n",
    "\n",
    "    running_loss=0.0\n",
    "\n",
    "    for i, data in enumerate(train_loader):\n",
    "        inputs, labels=data\n",
    "        inputs = inputs.to(device)\n",
    "        labels = labels.to(device)\n",
    "        optimizer.zero_grad()\n",
    "\n",
    "        outputs=net(inputs)\n",
    "\n",
    "        loss = loss_function(outputs, labels)\n",
    "        loss.backward()\n",
    "        optimizer.step()\n",
    "\n",
    "        running_loss+= loss.item()\n",
    "\n",
    "    print(f'Loss: {running_loss/ len(train_loader):.4f}')"
   ]
  },
  {
   "cell_type": "code",
   "execution_count": null,
   "id": "b5f34286-97b0-4a19-abba-b18e7404632f",
   "metadata": {},
   "outputs": [],
   "source": [
    "torch.save(net.state_dict(), 'trained_net.pth')"
   ]
  },
  {
   "cell_type": "code",
   "execution_count": null,
   "id": "f1268d10-1509-4a2a-8b03-7994e3db5bb6",
   "metadata": {},
   "outputs": [],
   "source": [
    "net= NeuralNet()\n",
    "net.load_state_dict(torch.load('trained_net.pth'))\n",
    "net.to(device)"
   ]
  },
  {
   "cell_type": "code",
   "execution_count": null,
   "id": "e7c9bc83-cb77-4915-aa73-849d686a774f",
   "metadata": {},
   "outputs": [],
   "source": [
    "correct = 0\n",
    "total = 0\n",
    "\n",
    "net.eval()\n",
    "\n",
    "with torch.no_grad():\n",
    "    for data in test_loader:\n",
    "        images, labels = data\n",
    "        images = images.to(device)\n",
    "        labels = labels.to(device)\n",
    "        outputs = net(images)\n",
    "        _, predicted = torch.max(outputs, 1)\n",
    "        total += labels.size(0)\n",
    "        correct +=(predicted ==labels).sum().item()\n",
    "\n",
    "\n",
    "accuracy = 100*correct/total\n",
    "print(f'Accuracy: {accuracy}%')"
   ]
  },
  {
   "cell_type": "code",
   "execution_count": null,
   "id": "36a39d2b-fcff-4353-b361-e6701260edae",
   "metadata": {},
   "outputs": [],
   "source": [
    "new_transform = transforms.Compose([\n",
    "    transforms.Resize((32,32)),\n",
    "    transforms.ToTensor(),\n",
    "    transforms.Normalize((0.5, 0.5, 0.5), (0.5, 0.5, 0.5))\n",
    "])\n",
    "\n",
    "def load_image(image_path):\n",
    "    image = Image.open(image_path)\n",
    "    image = new_transform(image)\n",
    "    image= image.unsqueeze(0)\n",
    "    return image\n",
    "\n",
    "image_paths = ['example1.jpg', 'example2.jpg']\n",
    "images = [load_image(img).to(device) for img in image_paths]\n",
    "\n",
    "net.eval()\n",
    "with torch.no_grad():\n",
    "    for image in images:\n",
    "        output = net(image)\n",
    "        _, predicted = torch.max(output, 1)\n",
    "        print(f'Prediction: {class_names[predicted.item()]}')\n",
    "        "
   ]
  }
 ],
 "metadata": {
  "kernelspec": {
   "display_name": "Python 3 (ipykernel)",
   "language": "python",
   "name": "python3"
  },
  "language_info": {
   "codemirror_mode": {
    "name": "ipython",
    "version": 3
   },
   "file_extension": ".py",
   "mimetype": "text/x-python",
   "name": "python",
   "nbconvert_exporter": "python",
   "pygments_lexer": "ipython3",
   "version": "3.10.18"
  }
 },
 "nbformat": 4,
 "nbformat_minor": 5
}
